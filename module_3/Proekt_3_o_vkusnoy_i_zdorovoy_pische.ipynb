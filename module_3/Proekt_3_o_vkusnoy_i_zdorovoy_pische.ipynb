{
 "cells": [
  {
   "cell_type": "markdown",
   "metadata": {},
   "source": [
    "![](https://www.pata.org/wp-content/uploads/2014/09/TripAdvisor_Logo-300x119.png)\n",
    "# Predict TripAdvisor Rating\n",
    "## В этом соревновании нам предстоит предсказать рейтинг ресторана в TripAdvisor\n",
    "**По ходу задачи:**\n",
    "* Прокачаем работу с pandas\n",
    "* Научимся работать с Kaggle Notebooks\n",
    "* Поймем как делать предобработку различных данных\n",
    "* Научимся работать с пропущенными данными (Nan)\n",
    "* Познакомимся с различными видами кодирования признаков\n",
    "* Немного попробуем [Feature Engineering](https://ru.wikipedia.org/wiki/Конструирование_признаков) (генерировать новые признаки)\n",
    "* И совсем немного затронем ML\n",
    "* И многое другое...   \n",
    "\n",
    "\n",
    "\n",
    "### И самое важное, все это вы сможете сделать самостоятельно!\n",
    "\n",
    "*Этот Ноутбук являетсся Примером/Шаблоном к этому соревнованию (Baseline) и не служит готовым решением!*   \n",
    "Вы можете использовать его как основу для построения своего решения.\n",
    "\n",
    "> что такое baseline решение, зачем оно нужно и почему предоставлять baseline к соревнованию стало важным стандартом на kaggle и других площадках.   \n",
    "**baseline** создается больше как шаблон, где можно посмотреть как происходит обращение с входящими данными и что нужно получить на выходе. При этом МЛ начинка может быть достаточно простой, просто для примера. Это помогает быстрее приступить к самому МЛ, а не тратить ценное время на чисто инженерные задачи. \n",
    "Также baseline являеться хорошей опорной точкой по метрике. Если твое решение хуже baseline - ты явно делаешь что-то не то и стоит попробовать другой путь) \n",
    "\n",
    "В контексте нашего соревнования baseline идет с небольшими примерами того, что можно делать с данными, и с инструкцией, что делать дальше, чтобы улучшить результат.  Вообще готовым решением это сложно назвать, так как используются всего 2 самых простых признака (а остальные исключаются)."
   ]
  },
  {
   "cell_type": "markdown",
   "metadata": {},
   "source": [
    "# import"
   ]
  },
  {
   "cell_type": "code",
   "execution_count": 2,
   "metadata": {
    "_cell_guid": "b1076dfc-b9ad-4769-8c92-a6c4dae69d19",
    "_uuid": "8f2839f25d086af736a60e9eeb907d3b93b6e0e5",
    "execution": {
     "iopub.execute_input": "2021-12-02T18:45:33.577564Z",
     "iopub.status.busy": "2021-12-02T18:45:33.577079Z",
     "iopub.status.idle": "2021-12-02T18:45:36.181127Z",
     "shell.execute_reply": "2021-12-02T18:45:36.180355Z",
     "shell.execute_reply.started": "2021-12-02T18:45:33.577519Z"
    }
   },
   "outputs": [],
   "source": [
    "# This Python 3 environment comes with many helpful analytics libraries installed\n",
    "# It is defined by the kaggle/python docker image: https://github.com/kaggle/docker-python\n",
    "# For example, here's several helpful packages to load in \n",
    "\n",
    "import numpy as np # linear algebra\n",
    "import pandas as pd # data processing, CSV file I/O (e.g. pd.read_csv)\n",
    "\n",
    "from ast import literal_eval\n",
    "import json\n",
    "\n",
    "import matplotlib.pyplot as plt\n",
    "import seaborn as sns \n",
    "%matplotlib inline\n",
    "\n",
    "import re\n",
    "from datetime import date, datetime, timedelta\n",
    "import numpy as np\n",
    "\n",
    "# Загружаем специальный удобный инструмент для разделения датасета:\n",
    "from sklearn.model_selection import train_test_split\n",
    "\n",
    "# Input data files are available in the \"../input/\" directory.\n",
    "# For example, running this (by clicking run or pressing Shift+Enter) will list all files under the input directory\n",
    "\n",
    "import os\n",
    "for dirname, _, filenames in os.walk('/kaggle/input'):\n",
    "    for filename in filenames:\n",
    "        print(os.path.join(dirname, filename))\n",
    "\n",
    "# Any results you write to the current directory are saved as output."
   ]
  },
  {
   "cell_type": "code",
   "execution_count": 3,
   "metadata": {
    "execution": {
     "iopub.execute_input": "2021-12-02T18:45:36.182919Z",
     "iopub.status.busy": "2021-12-02T18:45:36.182506Z",
     "iopub.status.idle": "2021-12-02T18:45:36.186729Z",
     "shell.execute_reply": "2021-12-02T18:45:36.185722Z",
     "shell.execute_reply.started": "2021-12-02T18:45:36.182879Z"
    }
   },
   "outputs": [],
   "source": [
    "# всегда фиксируйте RANDOM_SEED, чтобы ваши эксперименты были воспроизводимы!\n",
    "RANDOM_SEED = 42"
   ]
  },
  {
   "cell_type": "code",
   "execution_count": 4,
   "metadata": {
    "execution": {
     "iopub.execute_input": "2021-12-02T18:45:37.747385Z",
     "iopub.status.busy": "2021-12-02T18:45:37.747027Z",
     "iopub.status.idle": "2021-12-02T18:45:40.848206Z",
     "shell.execute_reply": "2021-12-02T18:45:40.847281Z",
     "shell.execute_reply.started": "2021-12-02T18:45:37.747321Z"
    }
   },
   "outputs": [],
   "source": [
    "# зафиксируем версию пакетов, чтобы эксперименты были воспроизводимы:\n",
    "!pip freeze > requirements.txt"
   ]
  },
  {
   "cell_type": "markdown",
   "metadata": {},
   "source": [
    "# DATA"
   ]
  },
  {
   "cell_type": "code",
   "execution_count": 5,
   "metadata": {
    "_cell_guid": "79c7e3d0-c299-4dcb-8224-4455121ee9b0",
    "_uuid": "d629ff2d2480ee46fbb7e2d37f6b5fab8052498a",
    "execution": {
     "iopub.execute_input": "2021-12-02T18:45:41.591294Z",
     "iopub.status.busy": "2021-12-02T18:45:41.590994Z",
     "iopub.status.idle": "2021-12-02T18:45:42.158364Z",
     "shell.execute_reply": "2021-12-02T18:45:42.157567Z",
     "shell.execute_reply.started": "2021-12-02T18:45:41.591255Z"
    }
   },
   "outputs": [],
   "source": [
    "DATA_DIR = '/kaggle/input/sf-dst-restaurant-rating/'\n",
    "df_train = pd.read_csv(DATA_DIR+'/main_task.csv')\n",
    "df_test = pd.read_csv(DATA_DIR+'kaggle_task.csv')\n",
    "sample_submission = pd.read_csv(DATA_DIR+'/sample_submission.csv')"
   ]
  },
  {
   "cell_type": "code",
   "execution_count": 6,
   "metadata": {
    "execution": {
     "iopub.execute_input": "2021-12-02T18:45:43.252562Z",
     "iopub.status.busy": "2021-12-02T18:45:43.251824Z",
     "iopub.status.idle": "2021-12-02T18:45:43.308207Z",
     "shell.execute_reply": "2021-12-02T18:45:43.307373Z",
     "shell.execute_reply.started": "2021-12-02T18:45:43.252470Z"
    }
   },
   "outputs": [],
   "source": [
    "# ВАЖНО! дря корректной обработки признаков объединяем трейн и тест в один датасет\n",
    "df_train['sample'] = 1 # помечаем где у нас трейн\n",
    "df_test['sample'] = 0 # помечаем где у нас тест\n",
    "df_test['Rating'] = 0 # в тесте у нас нет значения Rating, мы его должны предсказать, по этому пока просто заполняем нулями\n",
    "\n",
    "data = df_test.append(df_train, sort=False).reset_index(drop=True) # объединяем"
   ]
  },
  {
   "cell_type": "code",
   "execution_count": 7,
   "metadata": {
    "execution": {
     "iopub.execute_input": "2021-12-02T18:45:45.055603Z",
     "iopub.status.busy": "2021-12-02T18:45:45.055179Z",
     "iopub.status.idle": "2021-12-02T18:45:45.111292Z",
     "shell.execute_reply": "2021-12-02T18:45:45.110276Z",
     "shell.execute_reply.started": "2021-12-02T18:45:45.055524Z"
    }
   },
   "outputs": [],
   "source": [
    "data.info()"
   ]
  },
  {
   "cell_type": "markdown",
   "metadata": {},
   "source": [
    "Подробнее по признакам:\n",
    "* City: Город \n",
    "* Cuisine Style: Кухня\n",
    "* Ranking: Ранг ресторана относительно других ресторанов в этом городе\n",
    "* Price Range: Цены в ресторане в 3 категориях\n",
    "* Number of Reviews: Количество отзывов\n",
    "* Reviews: 2 последних отзыва и даты этих отзывов\n",
    "* URL_TA: страница ресторана на 'www.tripadvisor.com' \n",
    "* ID_TA: ID ресторана в TripAdvisor\n",
    "* Rating: Рейтинг ресторана"
   ]
  },
  {
   "cell_type": "markdown",
   "metadata": {},
   "source": [
    "Как видим, большинство признаков у нас требует очистки и предварительной обработки."
   ]
  },
  {
   "cell_type": "markdown",
   "metadata": {},
   "source": [
    "## Функции"
   ]
  },
  {
   "cell_type": "code",
   "execution_count": 24,
   "metadata": {
    "execution": {
     "iopub.execute_input": "2021-12-02T19:12:10.982945Z",
     "iopub.status.busy": "2021-12-02T19:12:10.982383Z",
     "iopub.status.idle": "2021-12-02T19:12:10.997378Z",
     "shell.execute_reply": "2021-12-02T19:12:10.996469Z",
     "shell.execute_reply.started": "2021-12-02T19:12:10.982890Z"
    }
   },
   "outputs": [],
   "source": [
    "# Убирает \"лишние\" кухни для последующей категоризации признака\n",
    "\n",
    "def cuisine_shorter(cuisine_list, top_cuisines):\n",
    "    cuisine_short_list = []\n",
    "    for cuisine in cuisine_list:\n",
    "        if cuisine in top_cuisines:\n",
    "            cuisine_short_list.append(cuisine)\n",
    "        else:\n",
    "            cuisine_short_list.append('national_cuisine')\n",
    "    return list(set(cuisine_short_list))\n",
    "\n",
    "\n",
    "# разделяет отзыв на состовляющие - дату и время\n",
    "\n",
    "def text_date_separator(row):\n",
    "    text = row[1:-1].split('], [')[0] + ']'\n",
    "    date = '[' + row[1:-1].split('], [')[1]\n",
    "    return[text,date]\n",
    "\n",
    "\n",
    "# возвращает разницу в днях между датами в отзывах\n",
    "# если одна дата или нет дат возвращает отрицательные числа\n",
    "\n",
    "def date_diff(row):\n",
    "    if len(row) == 2:\n",
    "        delta = row[1]-row[0]\n",
    "        delta = delta.days\n",
    "        return delta\n",
    "    elif len(row) == 1:\n",
    "        return -1\n",
    "    else:\n",
    "        return -2\n",
    "    \n",
    "    \n",
    "# Разбивает текст на список из отдельных слов\n",
    "\n",
    "def text_spliter(row):\n",
    "    row = row.replace(\"['\",'')\n",
    "    row = row.replace(\"']\",'')\n",
    "    row = row.lower()\n",
    "    row = re.sub('[^a-z]', ' ', row)\n",
    "    row = re.sub(\" +\", \" \", row)\n",
    "    row = row.split(' ')\n",
    "    return(row)\n",
    "\n",
    "\n",
    "# функция обработки отзыва \n",
    "# работает как социальный рейтинг, хорошие слова увеличивают рейтинг плохие уменьшают\n",
    "\n",
    "def review_rating(review,df_bad_lexicon,df_good_lexicon):\n",
    "    row = text_spliter(review)\n",
    "    \n",
    "    bad_lexicon = df_bad_lexicon[0].unique()\n",
    "    good_lexicon = df_good_lexicon[0].unique()\n",
    "    \n",
    "    review_rating = 0\n",
    "    for word in row:\n",
    "        if word in good_lexicon:\n",
    "            review_rating += 1\n",
    "        elif word in bad_lexicon:\n",
    "            review_rating -= 1\n",
    "    return (review_rating)"
   ]
  },
  {
   "cell_type": "markdown",
   "metadata": {},
   "source": [
    "## Предобработка"
   ]
  },
  {
   "cell_type": "markdown",
   "metadata": {},
   "source": [
    "## 1. Обработка NAN \n",
    "У наличия пропусков могут быть разные причины, но пропуски нужно либо заполнить, либо исключить из набора полностью. Но с пропусками нужно быть внимательным, **даже отсутствие информации может быть важным признаком!**   \n",
    "По этому перед обработкой NAN лучше вынести информацию о наличии пропуска как отдельный признак "
   ]
  },
  {
   "cell_type": "code",
   "execution_count": 143,
   "metadata": {
    "execution": {
     "iopub.execute_input": "2021-12-01T22:38:36.680382Z",
     "iopub.status.busy": "2021-12-01T22:38:36.679692Z",
     "iopub.status.idle": "2021-12-01T22:38:36.716094Z",
     "shell.execute_reply": "2021-12-01T22:38:36.715024Z",
     "shell.execute_reply.started": "2021-12-01T22:38:36.680292Z"
    }
   },
   "outputs": [],
   "source": [
    "data.info()"
   ]
  },
  {
   "cell_type": "code",
   "execution_count": 144,
   "metadata": {
    "execution": {
     "iopub.execute_input": "2021-12-01T22:38:36.718505Z",
     "iopub.status.busy": "2021-12-01T22:38:36.718040Z",
     "iopub.status.idle": "2021-12-01T22:38:36.755007Z",
     "shell.execute_reply": "2021-12-01T22:38:36.754036Z",
     "shell.execute_reply.started": "2021-12-01T22:38:36.718434Z"
    }
   },
   "outputs": [],
   "source": [
    "# Столбец Number of Reviews\n",
    "data['Number_of_Reviews_isNAN'] = pd.isna(data['Number of Reviews']).astype('uint8')\n",
    "data['Number of Reviews'].fillna(0, inplace=True)\n",
    "\n",
    "# Cuisine Style для начала заполним пропуски отсутствующей кухней\n",
    "data['Cuisine_Style_isNAN'] = pd.isna(data['Cuisine Style']).astype('uint8')\n",
    "data['Cuisine Style'] = data['Cuisine Style'].fillna(\"['No_Cuisine']\")\n",
    "\n",
    "# Reviews для начала заполним просто соответствующей пустотой и выделим пустые отзывы\n",
    "data.Reviews.fillna('[[], []]', inplace = True)\n",
    "data['Reviews_isNAN'] = data.Reviews.isin(['[[], []]']).astype('uint8')\n",
    "\n",
    "# Price range заполним наиболее встречающимся диапазоном цен\n",
    "data['Price_Range_isNAN'] = pd.isna(data['Price Range']).astype('uint8')\n",
    "data['Price Range'].fillna('$$ - $$$', inplace = True)"
   ]
  },
  {
   "cell_type": "markdown",
   "metadata": {},
   "source": [
    "### 2. Обработка признаков"
   ]
  },
  {
   "cell_type": "code",
   "execution_count": 145,
   "metadata": {
    "execution": {
     "iopub.execute_input": "2021-12-01T22:38:37.145143Z",
     "iopub.status.busy": "2021-12-01T22:38:37.144582Z",
     "iopub.status.idle": "2021-12-01T22:38:37.161072Z",
     "shell.execute_reply": "2021-12-01T22:38:37.159349Z",
     "shell.execute_reply.started": "2021-12-01T22:38:37.145034Z"
    }
   },
   "outputs": [],
   "source": [
    "# Уберем ненужные признаки из tripadviser\n",
    "data.drop(columns = ['URL_TA','ID_TA'], inplace = True)"
   ]
  },
  {
   "cell_type": "code",
   "execution_count": 146,
   "metadata": {
    "execution": {
     "iopub.execute_input": "2021-12-01T22:38:37.358861Z",
     "iopub.status.busy": "2021-12-01T22:38:37.357701Z",
     "iopub.status.idle": "2021-12-01T22:38:37.384543Z",
     "shell.execute_reply": "2021-12-01T22:38:37.383442Z",
     "shell.execute_reply.started": "2021-12-01T22:38:37.358738Z"
    }
   },
   "outputs": [],
   "source": [
    "data.sample(5)"
   ]
  },
  {
   "cell_type": "code",
   "execution_count": 147,
   "metadata": {
    "execution": {
     "iopub.execute_input": "2021-12-01T22:38:37.597970Z",
     "iopub.status.busy": "2021-12-01T22:38:37.597559Z",
     "iopub.status.idle": "2021-12-01T22:38:49.302176Z",
     "shell.execute_reply": "2021-12-01T22:38:49.301228Z",
     "shell.execute_reply.started": "2021-12-01T22:38:37.597902Z"
    }
   },
   "outputs": [],
   "source": [
    "# Преобразуем Price Range (категорийный признак)\n",
    "data['Price Range'] = data['Price Range'].apply(lambda x: 1 if x == '$' else (2 if x == '$$ - $$$' else 3))\n",
    "\n",
    "# Преобразуем Cuisine Style в список посчитаем число представленных кухонь перед обработкой \n",
    "data['Cuisine Style'] = data['Cuisine Style'].apply(literal_eval)\n",
    "data['Cuisine_count'] = data['Cuisine Style'].apply(lambda x: len(x))\n",
    "\n",
    "# Разобъем Reviews на отзывы и даты преобразуем их в нужные типы\n",
    "data['review_txt'] = data.Reviews.apply(lambda x: text_date_separator(x)[0])\n",
    "data['review_date'] = data.Reviews.apply(lambda x: text_date_separator(x)[1])\n",
    "data['review_date'] = data['review_date'].apply(literal_eval)\n",
    "data['review_date'] = data['review_date'].apply(lambda x: sorted([pd.to_datetime(i).date() for i in x]))\n",
    "data.drop(columns = ['Reviews'], inplace = True)"
   ]
  },
  {
   "cell_type": "code",
   "execution_count": 148,
   "metadata": {
    "collapsed": true,
    "execution": {
     "iopub.execute_input": "2021-12-01T22:38:49.304170Z",
     "iopub.status.busy": "2021-12-01T22:38:49.303772Z",
     "iopub.status.idle": "2021-12-01T22:38:49.342829Z",
     "shell.execute_reply": "2021-12-01T22:38:49.341995Z",
     "shell.execute_reply.started": "2021-12-01T22:38:49.304101Z"
    },
    "jupyter": {
     "outputs_hidden": true
    }
   },
   "outputs": [],
   "source": [
    "data"
   ]
  },
  {
   "cell_type": "markdown",
   "metadata": {},
   "source": [
    "## Подключим сторонние источники"
   ]
  },
  {
   "cell_type": "code",
   "execution_count": 149,
   "metadata": {
    "execution": {
     "iopub.execute_input": "2021-12-01T22:38:49.344704Z",
     "iopub.status.busy": "2021-12-01T22:38:49.344423Z",
     "iopub.status.idle": "2021-12-01T22:38:49.444255Z",
     "shell.execute_reply": "2021-12-01T22:38:49.443355Z",
     "shell.execute_reply.started": "2021-12-01T22:38:49.344654Z"
    }
   },
   "outputs": [],
   "source": [
    "# Подсоединяем dataset с городами\n",
    "DATA_DIR = '/kaggle/input/world-cities/'\n",
    "df_cities = pd.read_csv(DATA_DIR+'/worldcities.csv')\n",
    "df_cities.sample(5)"
   ]
  },
  {
   "cell_type": "code",
   "execution_count": 150,
   "metadata": {
    "execution": {
     "iopub.execute_input": "2021-12-01T22:38:49.445940Z",
     "iopub.status.busy": "2021-12-01T22:38:49.445574Z",
     "iopub.status.idle": "2021-12-01T22:38:49.465770Z",
     "shell.execute_reply": "2021-12-01T22:38:49.464916Z",
     "shell.execute_reply.started": "2021-12-01T22:38:49.445769Z"
    }
   },
   "outputs": [],
   "source": [
    "df_cities[df_cities.city == 'Porto']"
   ]
  },
  {
   "cell_type": "code",
   "execution_count": 151,
   "metadata": {
    "execution": {
     "iopub.execute_input": "2021-12-01T22:38:49.469787Z",
     "iopub.status.busy": "2021-12-01T22:38:49.469261Z",
     "iopub.status.idle": "2021-12-01T22:38:49.558007Z",
     "shell.execute_reply": "2021-12-01T22:38:49.556975Z",
     "shell.execute_reply.started": "2021-12-01T22:38:49.469739Z"
    }
   },
   "outputs": [],
   "source": [
    "# получим только города европы для этого ограничим широту и долготу на европу, чтобы не попали лишние города\n",
    "# Порту иногда называют по-другому\n",
    "data.City = data.City.str.replace('Oporto', 'Porto')\n",
    "\n",
    "df_cities = df_cities[(df_cities.city_ascii.isin(data.City.unique())) \n",
    "          & (df_cities.lng >= -20) \n",
    "          & (df_cities.lng <= 60)\n",
    "          & (df_cities.lat >= 30)\n",
    "          & (df_cities.lat <= 70)]\n",
    "\n",
    "# Проверим о каких городах нет информации\n",
    "# display(set(data.City.unique()) - set(df_cities[(df_cities.city_ascii.isin(data.City.unique()))].city_ascii.unique()))\n",
    "\n",
    "\n",
    "\n",
    "# убедимся, что не попало лишних городов\n",
    "# display(df_cities[df_cities.city_ascii.isin(data.City.unique())].city_ascii.value_counts())\n",
    "\n",
    "# Оставим только то, что можно использовать из df городов\n",
    "df_cities = df_cities[['city_ascii','capital','population']]\n",
    "df_cities.fillna('admin', inplace = True)\n",
    "\n",
    "# числовой признак столицы\n",
    "df_cities['capital'] = df_cities['capital'].isin(['primary']).astype('uint8')\n",
    "\n",
    "df_cities.columns = ['City','capital','population']\n",
    "data = data.merge(df_cities, how = 'left', on = ['City'])"
   ]
  },
  {
   "cell_type": "code",
   "execution_count": 152,
   "metadata": {
    "execution": {
     "iopub.execute_input": "2021-12-01T22:38:49.561767Z",
     "iopub.status.busy": "2021-12-01T22:38:49.561235Z",
     "iopub.status.idle": "2021-12-01T22:38:49.595373Z",
     "shell.execute_reply": "2021-12-01T22:38:49.594647Z",
     "shell.execute_reply.started": "2021-12-01T22:38:49.561554Z"
    }
   },
   "outputs": [],
   "source": [
    "data.info()"
   ]
  },
  {
   "cell_type": "code",
   "execution_count": 153,
   "metadata": {
    "execution": {
     "iopub.execute_input": "2021-12-01T22:38:49.596722Z",
     "iopub.status.busy": "2021-12-01T22:38:49.596381Z",
     "iopub.status.idle": "2021-12-01T22:38:49.604376Z",
     "shell.execute_reply": "2021-12-01T22:38:49.603667Z",
     "shell.execute_reply.started": "2021-12-01T22:38:49.596686Z"
    }
   },
   "outputs": [],
   "source": [
    "data[data.capital.isna()].City.value_counts()"
   ]
  },
  {
   "cell_type": "code",
   "execution_count": 154,
   "metadata": {
    "execution": {
     "iopub.execute_input": "2021-12-01T22:38:49.605866Z",
     "iopub.status.busy": "2021-12-01T22:38:49.605634Z",
     "iopub.status.idle": "2021-12-01T22:38:49.624456Z",
     "shell.execute_reply": "2021-12-01T22:38:49.623609Z",
     "shell.execute_reply.started": "2021-12-01T22:38:49.605826Z"
    }
   },
   "outputs": [],
   "source": [
    "df_cities"
   ]
  },
  {
   "cell_type": "code",
   "execution_count": 155,
   "metadata": {
    "execution": {
     "iopub.execute_input": "2021-12-01T22:38:49.626403Z",
     "iopub.status.busy": "2021-12-01T22:38:49.626010Z",
     "iopub.status.idle": "2021-12-01T22:38:49.645134Z",
     "shell.execute_reply": "2021-12-01T22:38:49.644427Z",
     "shell.execute_reply.started": "2021-12-01T22:38:49.626362Z"
    }
   },
   "outputs": [],
   "source": [
    "# подтянем dataset с лексикой\n",
    "DATA_DIR = '/kaggle/input/opinion-lexicon/opinion_lexicon/'\n",
    "df_good_lexicon = pd.read_table(DATA_DIR+\"/positive-words.txt\", comment=';', header=None)\n",
    "df_bad_lexicon = pd.read_table(DATA_DIR+\"/negative-words.txt\", comment=';', header=None)"
   ]
  },
  {
   "cell_type": "code",
   "execution_count": 156,
   "metadata": {
    "execution": {
     "iopub.execute_input": "2021-12-01T22:38:49.646488Z",
     "iopub.status.busy": "2021-12-01T22:38:49.646138Z",
     "iopub.status.idle": "2021-12-01T22:40:27.788997Z",
     "shell.execute_reply": "2021-12-01T22:40:27.788161Z",
     "shell.execute_reply.started": "2021-12-01T22:38:49.646451Z"
    }
   },
   "outputs": [],
   "source": [
    "# Применим функцию рейтинга на основе отзывов\n",
    "data['review_rating'] = data.review_txt.apply(lambda x: review_rating(x, df_bad_lexicon, df_good_lexicon))"
   ]
  },
  {
   "cell_type": "code",
   "execution_count": 157,
   "metadata": {
    "execution": {
     "iopub.execute_input": "2021-12-01T22:40:27.790498Z",
     "iopub.status.busy": "2021-12-01T22:40:27.790245Z",
     "iopub.status.idle": "2021-12-01T22:40:27.816175Z",
     "shell.execute_reply": "2021-12-01T22:40:27.815140Z",
     "shell.execute_reply.started": "2021-12-01T22:40:27.790457Z"
    }
   },
   "outputs": [],
   "source": [
    "data.sample(5)"
   ]
  },
  {
   "cell_type": "markdown",
   "metadata": {},
   "source": [
    "## Создадим новые признаки"
   ]
  },
  {
   "cell_type": "code",
   "execution_count": 158,
   "metadata": {
    "execution": {
     "iopub.execute_input": "2021-12-01T22:40:27.817648Z",
     "iopub.status.busy": "2021-12-01T22:40:27.817401Z",
     "iopub.status.idle": "2021-12-01T22:40:28.311795Z",
     "shell.execute_reply": "2021-12-01T22:40:28.310703Z",
     "shell.execute_reply.started": "2021-12-01T22:40:27.817603Z"
    }
   },
   "outputs": [],
   "source": [
    "# Разница между отзывами в днях\n",
    "data['days_diff'] = data['review_date'].apply(lambda x: date_diff(x))\n",
    "\n",
    "\n",
    "plt.rcParams['figure.figsize'] = (10,7)\n",
    "data['days_diff'].hist(bins=100)\n",
    "# у многих ресторанов отзывы отсутствуют"
   ]
  },
  {
   "cell_type": "code",
   "execution_count": 159,
   "metadata": {
    "execution": {
     "iopub.execute_input": "2021-12-01T22:40:28.314765Z",
     "iopub.status.busy": "2021-12-01T22:40:28.313965Z",
     "iopub.status.idle": "2021-12-01T22:40:28.458212Z",
     "shell.execute_reply": "2021-12-01T22:40:28.457447Z",
     "shell.execute_reply.started": "2021-12-01T22:40:28.314690Z"
    }
   },
   "outputs": [],
   "source": [
    "# Сетевой ресторан или нет\n",
    "net = data.groupby(['Restaurant_id']).agg(\n",
    "            cities = ('City', 'nunique')\n",
    "            ).reset_index()\n",
    "net['network'] = net.cities.apply(lambda x: 0 if x == 1 else 1)\n",
    "data = data.merge(net[['Restaurant_id','network']], how='left', on = ['Restaurant_id'])\n",
    "\n",
    "data['network'].value_counts()\n",
    "# сетевых ресторанив гораздо больше"
   ]
  },
  {
   "cell_type": "code",
   "execution_count": 160,
   "metadata": {
    "collapsed": true,
    "execution": {
     "iopub.execute_input": "2021-12-01T22:40:28.460014Z",
     "iopub.status.busy": "2021-12-01T22:40:28.459500Z",
     "iopub.status.idle": "2021-12-01T22:40:30.365902Z",
     "shell.execute_reply": "2021-12-01T22:40:30.365017Z",
     "shell.execute_reply.started": "2021-12-01T22:40:28.459965Z"
    },
    "jupyter": {
     "outputs_hidden": true
    }
   },
   "outputs": [],
   "source": [
    "# кухни\n",
    "\n",
    "# создадим series с названиями кухонь и числом их вхождений в список кухонь\n",
    "cuisine_list = data['Cuisine Style'].tolist()\n",
    "cuisine_dict = {}\n",
    "for cuisines in cuisine_list:\n",
    "    for cuisine in cuisines:\n",
    "        if cuisine in cuisine_dict.keys():\n",
    "            cuisine_dict[cuisine] = cuisine_dict[cuisine]+1\n",
    "        else:\n",
    "            cuisine_dict[cuisine] = 1\n",
    "\n",
    "cuisine_series = pd.Series(cuisine_dict)\n",
    "\n",
    "# Рассмотри состав кухонь\n",
    "plt.rcParams['figure.figsize'] = (10,25)\n",
    "cuisine_series.sort_values(ascending=True).plot(kind='barh')"
   ]
  },
  {
   "cell_type": "code",
   "execution_count": 161,
   "metadata": {
    "execution": {
     "iopub.execute_input": "2021-12-01T22:40:30.367543Z",
     "iopub.status.busy": "2021-12-01T22:40:30.367292Z",
     "iopub.status.idle": "2021-12-01T22:40:30.745725Z",
     "shell.execute_reply": "2021-12-01T22:40:30.744734Z",
     "shell.execute_reply.started": "2021-12-01T22:40:30.367501Z"
    }
   },
   "outputs": [],
   "source": [
    "print(cuisine_series.drop('No_Cuisine').sum())\n",
    "print(len(cuisine_series))\n",
    "print(cuisine_series.drop('No_Cuisine').head(30).sum())\n",
    "print(round(cuisine_series.drop('No_Cuisine').head(30).sum()/cuisine_series.sum()*100,2))\n",
    "\n",
    "# по  графику видно, что есть много разных национальных кухонь, \n",
    "# из 126 кухонь первые 30 не включая отсутствующие кухни составляет почти 70 процентов всех кухонь поэтому заменим осталььные кухни и отсутствующие одной национальной\n",
    "top_cuisines = cuisine_series.drop('No_Cuisine').head(30).keys()\n",
    "data['Cuisine Style'] = data['Cuisine Style'].apply(lambda x: cuisine_shorter(x, top_cuisines))"
   ]
  },
  {
   "cell_type": "code",
   "execution_count": 162,
   "metadata": {
    "execution": {
     "iopub.execute_input": "2021-12-01T22:40:30.747910Z",
     "iopub.status.busy": "2021-12-01T22:40:30.747549Z",
     "iopub.status.idle": "2021-12-01T22:40:30.774709Z",
     "shell.execute_reply": "2021-12-01T22:40:30.773847Z",
     "shell.execute_reply.started": "2021-12-01T22:40:30.747839Z"
    }
   },
   "outputs": [],
   "source": [
    "# посмотрим со сколькими ресторанами конкурирует конкретный ресторан\n",
    "restorants_in_city = data.groupby('City')['Ranking'].count().to_dict()\n",
    "data['Restaurants_Count'] = data['City'].map(restorants_in_city)"
   ]
  },
  {
   "cell_type": "code",
   "execution_count": 163,
   "metadata": {
    "execution": {
     "iopub.execute_input": "2021-12-01T22:40:30.775985Z",
     "iopub.status.busy": "2021-12-01T22:40:30.775751Z",
     "iopub.status.idle": "2021-12-01T22:40:30.782642Z",
     "shell.execute_reply": "2021-12-01T22:40:30.781566Z",
     "shell.execute_reply.started": "2021-12-01T22:40:30.775951Z"
    }
   },
   "outputs": [],
   "source": [
    "# приведем параметры к взвешенному значению\n",
    "data['Weighed_Rank'] = data.Ranking / data.Restaurants_Count"
   ]
  },
  {
   "cell_type": "code",
   "execution_count": 164,
   "metadata": {
    "execution": {
     "iopub.execute_input": "2021-12-01T22:40:30.784407Z",
     "iopub.status.busy": "2021-12-01T22:40:30.784000Z",
     "iopub.status.idle": "2021-12-01T22:40:30.802084Z",
     "shell.execute_reply": "2021-12-01T22:40:30.801408Z",
     "shell.execute_reply.started": "2021-12-01T22:40:30.784344Z"
    }
   },
   "outputs": [],
   "source": [
    "# посмотрим на топ 10 городов\n",
    "for x in (data['City'].value_counts())[5:5].index:\n",
    "    data['Weighed_Rank'][data['City'] == x].hist(bins=100)\n",
    "plt.show()"
   ]
  },
  {
   "cell_type": "code",
   "execution_count": 165,
   "metadata": {
    "execution": {
     "iopub.execute_input": "2021-12-01T22:40:30.804349Z",
     "iopub.status.busy": "2021-12-01T22:40:30.803674Z",
     "iopub.status.idle": "2021-12-01T22:40:30.816587Z",
     "shell.execute_reply": "2021-12-01T22:40:30.815499Z",
     "shell.execute_reply.started": "2021-12-01T22:40:30.804286Z"
    }
   },
   "outputs": [],
   "source": [
    "# число отзывов на 1000 человек\n",
    "data['Number of Reviews Weight'] = data['Number of Reviews']/data['population']*1000"
   ]
  },
  {
   "cell_type": "code",
   "execution_count": 166,
   "metadata": {
    "execution": {
     "iopub.execute_input": "2021-12-01T22:40:30.818312Z",
     "iopub.status.busy": "2021-12-01T22:40:30.817843Z",
     "iopub.status.idle": "2021-12-01T22:40:30.919394Z",
     "shell.execute_reply": "2021-12-01T22:40:30.918770Z",
     "shell.execute_reply.started": "2021-12-01T22:40:30.818224Z"
    }
   },
   "outputs": [],
   "source": [
    "data.describe()"
   ]
  },
  {
   "cell_type": "code",
   "execution_count": 167,
   "metadata": {
    "execution": {
     "iopub.execute_input": "2021-12-01T22:40:30.920870Z",
     "iopub.status.busy": "2021-12-01T22:40:30.920477Z",
     "iopub.status.idle": "2021-12-01T22:40:39.804313Z",
     "shell.execute_reply": "2021-12-01T22:40:39.803593Z",
     "shell.execute_reply.started": "2021-12-01T22:40:30.920818Z"
    }
   },
   "outputs": [],
   "source": [
    "data[['Ranking', 'Price Range',\n",
    "       'Number of Reviews', 'Number_of_Reviews_isNAN',\n",
    "       'Cuisine_Style_isNAN', 'Reviews_isNAN', 'Price_Range_isNAN',\n",
    "       'Cuisine_count', 'capital', 'population',\n",
    "       'review_rating', 'days_diff', 'network', 'Restaurants_Count',\n",
    "       'Weighed_Rank','Number of Reviews Weight']].hist(figsize=(20, 20), bins=100);\n",
    "plt.tight_layout()"
   ]
  },
  {
   "cell_type": "markdown",
   "metadata": {},
   "source": [
    "### Посмотрим распределение признака"
   ]
  },
  {
   "cell_type": "code",
   "execution_count": 168,
   "metadata": {
    "execution": {
     "iopub.execute_input": "2021-12-01T22:40:39.805869Z",
     "iopub.status.busy": "2021-12-01T22:40:39.805446Z",
     "iopub.status.idle": "2021-12-01T22:40:40.262175Z",
     "shell.execute_reply": "2021-12-01T22:40:40.261040Z",
     "shell.execute_reply.started": "2021-12-01T22:40:39.805814Z"
    }
   },
   "outputs": [],
   "source": [
    "plt.rcParams['figure.figsize'] = (10,7)\n",
    "df_train['Ranking'].hist(bins=100)"
   ]
  },
  {
   "cell_type": "markdown",
   "metadata": {},
   "source": [
    "У нас много ресторанов, которые не дотягивают и до 2500 места в своем городе, а что там по городам?"
   ]
  },
  {
   "cell_type": "code",
   "execution_count": 169,
   "metadata": {
    "collapsed": true,
    "execution": {
     "iopub.execute_input": "2021-12-01T22:40:40.264600Z",
     "iopub.status.busy": "2021-12-01T22:40:40.263973Z",
     "iopub.status.idle": "2021-12-01T22:40:40.695548Z",
     "shell.execute_reply": "2021-12-01T22:40:40.694471Z",
     "shell.execute_reply.started": "2021-12-01T22:40:40.264524Z"
    },
    "jupyter": {
     "outputs_hidden": true
    }
   },
   "outputs": [],
   "source": [
    "df_train['City'].value_counts(ascending=True).plot(kind='barh')"
   ]
  },
  {
   "cell_type": "markdown",
   "metadata": {},
   "source": [
    "А кто-то говорил, что французы любят поесть=) Посмотрим, как изменится распределение в большом городе:"
   ]
  },
  {
   "cell_type": "code",
   "execution_count": 170,
   "metadata": {
    "execution": {
     "iopub.execute_input": "2021-12-01T22:40:40.697884Z",
     "iopub.status.busy": "2021-12-01T22:40:40.697310Z",
     "iopub.status.idle": "2021-12-01T22:40:41.148022Z",
     "shell.execute_reply": "2021-12-01T22:40:41.146928Z",
     "shell.execute_reply.started": "2021-12-01T22:40:40.697813Z"
    }
   },
   "outputs": [],
   "source": [
    "df_train['Ranking'][df_train['City'] =='London'].hist(bins=100)"
   ]
  },
  {
   "cell_type": "code",
   "execution_count": 171,
   "metadata": {
    "execution": {
     "iopub.execute_input": "2021-12-01T22:40:41.150384Z",
     "iopub.status.busy": "2021-12-01T22:40:41.149778Z",
     "iopub.status.idle": "2021-12-01T22:40:43.331141Z",
     "shell.execute_reply": "2021-12-01T22:40:43.330055Z",
     "shell.execute_reply.started": "2021-12-01T22:40:41.150314Z"
    }
   },
   "outputs": [],
   "source": [
    "# посмотрим на топ 10 городов\n",
    "for x in (df_train['City'].value_counts())[0:10].index:\n",
    "    df_train['Ranking'][df_train['City'] == x].hist(bins=100)\n",
    "plt.show()"
   ]
  },
  {
   "cell_type": "markdown",
   "metadata": {},
   "source": [
    "Получается, что Ranking имеет нормальное распределение, просто в больших городах больше ресторанов, из-за мы этого имеем смещение.\n",
    "\n",
    ">Подумайте как из этого можно сделать признак для вашей модели. Я покажу вам пример, как визуализация помогает находить взаимосвязи. А далее действуйте без подсказок =) \n"
   ]
  },
  {
   "cell_type": "markdown",
   "metadata": {},
   "source": [
    "### Посмотрим распределение целевой переменной"
   ]
  },
  {
   "cell_type": "code",
   "execution_count": 172,
   "metadata": {
    "execution": {
     "iopub.execute_input": "2021-12-01T22:40:43.333554Z",
     "iopub.status.busy": "2021-12-01T22:40:43.332858Z",
     "iopub.status.idle": "2021-12-01T22:40:43.613299Z",
     "shell.execute_reply": "2021-12-01T22:40:43.612138Z",
     "shell.execute_reply.started": "2021-12-01T22:40:43.333483Z"
    }
   },
   "outputs": [],
   "source": [
    "df_train['Rating'].value_counts(ascending=True).plot(kind='barh')"
   ]
  },
  {
   "cell_type": "markdown",
   "metadata": {},
   "source": [
    "### Посмотрим распределение целевой переменной относительно признака"
   ]
  },
  {
   "cell_type": "code",
   "execution_count": 173,
   "metadata": {
    "execution": {
     "iopub.execute_input": "2021-12-01T22:40:43.617189Z",
     "iopub.status.busy": "2021-12-01T22:40:43.616771Z",
     "iopub.status.idle": "2021-12-01T22:40:44.091633Z",
     "shell.execute_reply": "2021-12-01T22:40:44.090164Z",
     "shell.execute_reply.started": "2021-12-01T22:40:43.617118Z"
    }
   },
   "outputs": [],
   "source": [
    "df_train['Ranking'][df_train['Rating'] == 5].hist(bins=100)"
   ]
  },
  {
   "cell_type": "code",
   "execution_count": 174,
   "metadata": {
    "execution": {
     "iopub.execute_input": "2021-12-01T22:40:44.098191Z",
     "iopub.status.busy": "2021-12-01T22:40:44.097701Z",
     "iopub.status.idle": "2021-12-01T22:40:44.573005Z",
     "shell.execute_reply": "2021-12-01T22:40:44.571689Z",
     "shell.execute_reply.started": "2021-12-01T22:40:44.098093Z"
    }
   },
   "outputs": [],
   "source": [
    "df_train['Ranking'][df_train['Rating'] < 4].hist(bins=100)"
   ]
  },
  {
   "cell_type": "markdown",
   "metadata": {},
   "source": [
    "### И один из моих любимых - [корреляция признаков](https://ru.wikipedia.org/wiki/Корреляция)\n",
    "На этом графике уже сейчас вы сможете заметить, как признаки связаны между собой и с целевой переменной."
   ]
  },
  {
   "cell_type": "code",
   "execution_count": 175,
   "metadata": {
    "execution": {
     "iopub.execute_input": "2021-12-01T22:40:44.575678Z",
     "iopub.status.busy": "2021-12-01T22:40:44.575271Z",
     "iopub.status.idle": "2021-12-01T22:40:45.316691Z",
     "shell.execute_reply": "2021-12-01T22:40:45.315608Z",
     "shell.execute_reply.started": "2021-12-01T22:40:44.575617Z"
    }
   },
   "outputs": [],
   "source": [
    "plt.rcParams['figure.figsize'] = (15,10)\n",
    "sns.heatmap(data.drop(['sample'], axis=1).corr(),)"
   ]
  },
  {
   "cell_type": "markdown",
   "metadata": {},
   "source": [
    "Вообще благодаря визуализации в этом датасете можно узнать много интересных фактов, например:\n",
    "* где больше Пицерий в Мадриде или Лондоне?\n",
    "* в каком городе кухня ресторанов более разнообразна?\n",
    "\n",
    "придумайте свои вопрос и найдите на него ответ в данных)"
   ]
  },
  {
   "cell_type": "markdown",
   "metadata": {},
   "source": [
    "## добавим dummies переменные"
   ]
  },
  {
   "cell_type": "code",
   "execution_count": 176,
   "metadata": {
    "execution": {
     "iopub.execute_input": "2021-12-01T22:40:45.319435Z",
     "iopub.status.busy": "2021-12-01T22:40:45.318662Z",
     "iopub.status.idle": "2021-12-01T22:40:45.356476Z",
     "shell.execute_reply": "2021-12-01T22:40:45.355751Z",
     "shell.execute_reply.started": "2021-12-01T22:40:45.319363Z"
    }
   },
   "outputs": [],
   "source": [
    "# для One-Hot Encoding в pandas есть готовая функция - get_dummies. Особенно радует параметр dummy_na\n",
    "df_1 = pd.get_dummies(data, columns=[ 'City',], dummy_na=True)"
   ]
  },
  {
   "cell_type": "code",
   "execution_count": 177,
   "metadata": {
    "execution": {
     "iopub.execute_input": "2021-12-01T22:40:45.358155Z",
     "iopub.status.busy": "2021-12-01T22:40:45.357663Z",
     "iopub.status.idle": "2021-12-01T22:40:57.455566Z",
     "shell.execute_reply": "2021-12-01T22:40:57.454682Z",
     "shell.execute_reply.started": "2021-12-01T22:40:45.358096Z"
    }
   },
   "outputs": [],
   "source": [
    "cuisines_df = pd.get_dummies(data['Cuisine Style'].apply(pd.Series).stack()).sum(level=0)"
   ]
  },
  {
   "cell_type": "code",
   "execution_count": 178,
   "metadata": {
    "execution": {
     "iopub.execute_input": "2021-12-01T22:40:57.457236Z",
     "iopub.status.busy": "2021-12-01T22:40:57.456933Z",
     "iopub.status.idle": "2021-12-01T22:40:57.482786Z",
     "shell.execute_reply": "2021-12-01T22:40:57.482026Z",
     "shell.execute_reply.started": "2021-12-01T22:40:57.457181Z"
    }
   },
   "outputs": [],
   "source": [
    "df2 = pd.concat([df_1,cuisines_df], axis=1)"
   ]
  },
  {
   "cell_type": "code",
   "execution_count": 179,
   "metadata": {
    "execution": {
     "iopub.execute_input": "2021-12-01T22:40:57.484655Z",
     "iopub.status.busy": "2021-12-01T22:40:57.484200Z",
     "iopub.status.idle": "2021-12-01T22:40:57.506775Z",
     "shell.execute_reply": "2021-12-01T22:40:57.505762Z",
     "shell.execute_reply.started": "2021-12-01T22:40:57.484552Z"
    }
   },
   "outputs": [],
   "source": [
    "df2.drop(columns=['Restaurant_id','Cuisine Style', 'review_txt', 'review_date'], inplace = True)"
   ]
  },
  {
   "cell_type": "markdown",
   "metadata": {},
   "source": [
    "# Data Preprocessing\n",
    "Теперь, для удобства и воспроизводимости кода, завернем всю обработку в одну большую функцию."
   ]
  },
  {
   "cell_type": "code",
   "execution_count": null,
   "metadata": {
    "execution": {
     "iopub.execute_input": "2021-11-28T14:47:32.881546Z",
     "iopub.status.busy": "2021-11-28T14:47:32.881158Z",
     "iopub.status.idle": "2021-11-28T14:47:33.204072Z",
     "shell.execute_reply": "2021-11-28T14:47:33.203084Z",
     "shell.execute_reply.started": "2021-11-28T14:47:32.881477Z"
    }
   },
   "outputs": [],
   "source": [
    "# на всякий случай, заново подгружаем данные\n",
    "df_train = pd.read_csv(DATA_DIR+'/main_task.csv')\n",
    "df_test = pd.read_csv(DATA_DIR+'/kaggle_task.csv')\n",
    "df_train['sample'] = 1 # помечаем где у нас трейн\n",
    "df_test['sample'] = 0 # помечаем где у нас тест\n",
    "df_test['Rating'] = 0 # в тесте у нас нет значения Rating, мы его должны предсказать, по этому пока просто заполняем нулями\n",
    "\n",
    "data = df_test.append(df_train, sort=False).reset_index(drop=True) # объединяем\n",
    "data.info()"
   ]
  },
  {
   "cell_type": "code",
   "execution_count": 25,
   "metadata": {
    "execution": {
     "iopub.execute_input": "2021-12-02T19:14:02.558127Z",
     "iopub.status.busy": "2021-12-02T19:14:02.557795Z",
     "iopub.status.idle": "2021-12-02T19:14:02.596225Z",
     "shell.execute_reply": "2021-12-02T19:14:02.595406Z",
     "shell.execute_reply.started": "2021-12-02T19:14:02.558079Z"
    }
   },
   "outputs": [],
   "source": [
    "def preproc_data(df_input):\n",
    "    '''includes several functions to pre-process the predictor data.'''\n",
    "    \n",
    "    data = df_input.copy()\n",
    "    \n",
    "    # ################### 1. Предобработка ############################################################## \n",
    "    # убираем не нужные для модели признаки\n",
    "    data.drop(columns = ['URL_TA','ID_TA'], inplace = True)\n",
    "    \n",
    "    # ################### 2. NAN ############################################################## \n",
    "    data['Number of Reviews'].fillna(0, inplace=True)\n",
    "\n",
    "    # Столбец Number of Reviews\n",
    "    data['Number_of_Reviews_isNAN'] = pd.isna(data['Number of Reviews']).astype('uint8')\n",
    "    data['Number of Reviews'].fillna(0, inplace=True)\n",
    "\n",
    "    # Cuisine Style для начала заполним пропуски отсутствующей кухней\n",
    "    data['Cuisine_Style_isNAN'] = pd.isna(data['Cuisine Style']).astype('uint8')\n",
    "    data['Cuisine Style'] = data['Cuisine Style'].fillna(\"['No_Cuisine']\")\n",
    "\n",
    "    # Reviews для начала заполним просто соответствующей пустотой и выделим пустые отзывы\n",
    "    data.Reviews.fillna('[[], []]', inplace = True)\n",
    "    data['Reviews_isNAN'] = data.Reviews.isin(['[[], []]']).astype('uint8')\n",
    "\n",
    "    # Price range заполним наиболее встречающимся диапазоном цен\n",
    "    data['Price_Range_isNAN'] = pd.isna(data['Price Range']).astype('uint8')\n",
    "    data['Price Range'].fillna('$$ - $$$', inplace = True)\n",
    "    \n",
    "    \n",
    "    # ################### 3. Encoding ############################################################## \n",
    "\n",
    "    # Преобразуем Price Range (категорийный признак)\n",
    "    data['Price Range'] = data['Price Range'].apply(lambda x: 1 if x == '$' else (2 if x == '$$ - $$$' else 3))\n",
    "\n",
    "    # Преобразуем Cuisine Style в список посчитаем число представленных кухонь перед обработкой \n",
    "    data['Cuisine Style'] = data['Cuisine Style'].apply(literal_eval)\n",
    "    data['Cuisine_count'] = data['Cuisine Style'].apply(lambda x: len(x))\n",
    "\n",
    "    # Разобъем Reviews на отзывы и даты преобразуем их в нужные типы\n",
    "    data['review_txt'] = data.Reviews.apply(lambda x: text_date_separator(x)[0])\n",
    "    data['review_date'] = data.Reviews.apply(lambda x: text_date_separator(x)[1])\n",
    "    data['review_date'] = data['review_date'].apply(literal_eval)\n",
    "    data['review_date'] = data['review_date'].apply(lambda x: sorted([pd.to_datetime(i).date() for i in x]))\n",
    "    data.drop(columns = ['Reviews'], inplace = True)\n",
    "    \n",
    "    # ################### 4. Feature Engineering ####################################################\n",
    "    \n",
    "    # Подсоединяем dataset с городами\n",
    "    DATA_DIR = '/kaggle/input/world-cities/'\n",
    "    df_cities = pd.read_csv(DATA_DIR+'/worldcities.csv')\n",
    "\n",
    "    # Порту иногда называют по-другому\n",
    "    data.City = data.City.str.replace('Oporto', 'Porto')\n",
    "\n",
    "    # получим только города европы для этого ограничим широту и долготу на европу, чтобы не попали лишние города\n",
    "    df_cities = df_cities[(df_cities.city_ascii.isin(data.City.unique())) \n",
    "              & (df_cities.lng >= -20) \n",
    "              & (df_cities.lng <= 60)\n",
    "              & (df_cities.lat >= 30)\n",
    "              & (df_cities.lat <= 70)]\n",
    "\n",
    "    # Оставим только то, что можно использовать из df городов\n",
    "    df_cities = df_cities[['city_ascii','capital','population']]\n",
    "    df_cities.fillna('admin', inplace = True)\n",
    "\n",
    "    # числовой признак столицы\n",
    "    df_cities['capital'] = df_cities['capital'].isin(['primary']).astype('uint8')\n",
    "    \n",
    "    # джоин\n",
    "    df_cities.columns = ['City','capital','population']\n",
    "    data = data.merge(df_cities, how = 'left', on = ['City'])\n",
    "    \n",
    "    \n",
    "    # подтянем dataset с лексикой\n",
    "    DATA_DIR = '/kaggle/input/opinion-lexicon/opinion_lexicon/'\n",
    "    df_good_lexicon = pd.read_table(DATA_DIR+\"/positive-words.txt\", comment=';', header=None)\n",
    "    df_bad_lexicon = pd.read_table(DATA_DIR+\"/negative-words.txt\", comment=';', header=None)\n",
    "    # Применим функцию рейтинга на основе отзывов\n",
    "    data['review_rating'] = data.review_txt.apply(lambda x: review_rating(x,df_bad_lexicon,df_good_lexicon))\n",
    "    \n",
    "    \n",
    "    # Разница между отзывами в днях\n",
    "    data['days_diff'] = data['review_date'].apply(lambda x: date_diff(x))\n",
    "    \n",
    "    # Сетевой ресторан или нет\n",
    "    net = data.groupby(['Restaurant_id']).agg(\n",
    "                cities = ('City', 'nunique')\n",
    "                ).reset_index()\n",
    "    net['network'] = net.cities.apply(lambda x: 0 if x == 1 else 1)\n",
    "    data = data.merge(net[['Restaurant_id','network']], how='left', on = ['Restaurant_id'])\n",
    "    \n",
    "    \n",
    "    # кухни\n",
    "    # создадим series с названиями кухонь и числом их вхождений в список кухонь\n",
    "    cuisine_list = data['Cuisine Style'].tolist()\n",
    "    cuisine_dict = {}\n",
    "    for cuisines in cuisine_list:\n",
    "        for cuisine in cuisines:\n",
    "            if cuisine in cuisine_dict.keys():\n",
    "                cuisine_dict[cuisine] = cuisine_dict[cuisine]+1\n",
    "            else:\n",
    "                cuisine_dict[cuisine] = 1\n",
    "\n",
    "    cuisine_series = pd.Series(cuisine_dict)\n",
    "    \n",
    "    top_cuisines = cuisine_series.drop('No_Cuisine').head(30).keys()\n",
    "    data['Cuisine Style'] = data['Cuisine Style'].apply(lambda x: cuisine_shorter(x, top_cuisines))\n",
    "    \n",
    "    \n",
    "    # посмотрим со сколькими ресторанами конкурирует конкретный ресторан\n",
    "    restorants_in_city = data.groupby('City')['Ranking'].count().to_dict()\n",
    "    data['Restaurants_Count'] = data['City'].map(restorants_in_city)\n",
    "    \n",
    "    \n",
    "    # приведем параметры к взвешенному значению\n",
    "    data['Weighed_Rank'] = data.Ranking / data.Restaurants_Count\n",
    "    \n",
    "    # число отзывов на 1000 человек\n",
    "    data['Number of Reviews Weight'] = data['Number of Reviews']/data['population']*1000\n",
    "    \n",
    "    \n",
    "    \n",
    "    # Dummies\n",
    "    df_1 = pd.get_dummies(data, columns=[ 'City',], dummy_na=True)\n",
    "    cuisines_df = pd.get_dummies(data['Cuisine Style'].apply(pd.Series).stack()).sum(level=0)\n",
    "    df_output = pd.concat([df_1,cuisines_df], axis=1)\n",
    "    \n",
    "    \n",
    "    # ################### 5. Clean #################################################### \n",
    "    \n",
    "    df_output.drop(columns=['Restaurant_id','Cuisine Style', 'review_txt', 'review_date'], inplace = True)\n",
    "    # убираем признаки которые еще не успели обработать, \n",
    "    # модель на признаках с dtypes \"object\" обучаться не будет, просто выберим их и удалим\n",
    "    object_columns = [s for s in df_output.columns if df_output[s].dtypes == 'object']\n",
    "    df_output.drop(object_columns, axis = 1, inplace=True)\n",
    "    \n",
    "    return df_output"
   ]
  },
  {
   "cell_type": "markdown",
   "metadata": {},
   "source": [
    ">По хорошему, можно было бы перевести эту большую функцию в класс и разбить на подфункции (согласно ООП). "
   ]
  },
  {
   "cell_type": "markdown",
   "metadata": {},
   "source": [
    "#### Запускаем и проверяем что получилось"
   ]
  },
  {
   "cell_type": "code",
   "execution_count": 26,
   "metadata": {
    "execution": {
     "iopub.execute_input": "2021-12-02T19:14:11.127418Z",
     "iopub.status.busy": "2021-12-02T19:14:11.127103Z",
     "iopub.status.idle": "2021-12-02T19:17:06.193085Z",
     "shell.execute_reply": "2021-12-02T19:17:06.192292Z",
     "shell.execute_reply.started": "2021-12-02T19:14:11.127371Z"
    }
   },
   "outputs": [],
   "source": [
    "df_preproc = preproc_data(data)\n",
    "df_preproc.sample(10)"
   ]
  },
  {
   "cell_type": "code",
   "execution_count": 27,
   "metadata": {
    "execution": {
     "iopub.execute_input": "2021-12-02T19:19:27.505010Z",
     "iopub.status.busy": "2021-12-02T19:19:27.504663Z",
     "iopub.status.idle": "2021-12-02T19:19:27.532640Z",
     "shell.execute_reply": "2021-12-02T19:19:27.531739Z",
     "shell.execute_reply.started": "2021-12-02T19:19:27.504952Z"
    }
   },
   "outputs": [],
   "source": [
    "df_preproc.info()"
   ]
  },
  {
   "cell_type": "code",
   "execution_count": 28,
   "metadata": {
    "execution": {
     "iopub.execute_input": "2021-12-02T19:19:36.182844Z",
     "iopub.status.busy": "2021-12-02T19:19:36.182260Z",
     "iopub.status.idle": "2021-12-02T19:19:36.221595Z",
     "shell.execute_reply": "2021-12-02T19:19:36.220746Z",
     "shell.execute_reply.started": "2021-12-02T19:19:36.182778Z"
    }
   },
   "outputs": [],
   "source": [
    "# Теперь выделим тестовую часть\n",
    "train_data = df_preproc.query('sample == 1').drop(['sample'], axis=1)\n",
    "test_data = df_preproc.query('sample == 0').drop(['sample'], axis=1)\n",
    "\n",
    "y = train_data.Rating.values            # наш таргет\n",
    "X = train_data.drop(['Rating'], axis=1)"
   ]
  },
  {
   "cell_type": "markdown",
   "metadata": {},
   "source": [
    "**Перед тем как отправлять наши данные на обучение, разделим данные на еще один тест и трейн, для валидации. \n",
    "Это поможет нам проверить, как хорошо наша модель работает, до отправки submissiona на kaggle.**"
   ]
  },
  {
   "cell_type": "code",
   "execution_count": 29,
   "metadata": {
    "execution": {
     "iopub.execute_input": "2021-12-02T19:19:38.141669Z",
     "iopub.status.busy": "2021-12-02T19:19:38.141362Z",
     "iopub.status.idle": "2021-12-02T19:19:38.162217Z",
     "shell.execute_reply": "2021-12-02T19:19:38.161498Z",
     "shell.execute_reply.started": "2021-12-02T19:19:38.141625Z"
    }
   },
   "outputs": [],
   "source": [
    "# Воспользуемся специальной функцие train_test_split для разбивки тестовых данных\n",
    "# выделим 20% данных на валидацию (параметр test_size)\n",
    "X_train, X_test, y_train, y_test = train_test_split(X, y, test_size=0.2, random_state=RANDOM_SEED)"
   ]
  },
  {
   "cell_type": "code",
   "execution_count": 30,
   "metadata": {
    "execution": {
     "iopub.execute_input": "2021-12-02T19:19:42.616229Z",
     "iopub.status.busy": "2021-12-02T19:19:42.615884Z",
     "iopub.status.idle": "2021-12-02T19:19:42.623189Z",
     "shell.execute_reply": "2021-12-02T19:19:42.622183Z",
     "shell.execute_reply.started": "2021-12-02T19:19:42.616171Z"
    }
   },
   "outputs": [],
   "source": [
    "# проверяем\n",
    "test_data.shape, train_data.shape, X.shape, X_train.shape, X_test.shape"
   ]
  },
  {
   "cell_type": "markdown",
   "metadata": {},
   "source": [
    "# Model \n",
    "Сам ML"
   ]
  },
  {
   "cell_type": "code",
   "execution_count": 31,
   "metadata": {
    "execution": {
     "iopub.execute_input": "2021-12-02T19:19:43.804252Z",
     "iopub.status.busy": "2021-12-02T19:19:43.803548Z",
     "iopub.status.idle": "2021-12-02T19:19:43.950823Z",
     "shell.execute_reply": "2021-12-02T19:19:43.949903Z",
     "shell.execute_reply.started": "2021-12-02T19:19:43.804152Z"
    }
   },
   "outputs": [],
   "source": [
    "# Импортируем необходимые библиотеки:\n",
    "from sklearn.ensemble import RandomForestRegressor # инструмент для создания и обучения модели\n",
    "from sklearn import metrics # инструменты для оценки точности модели"
   ]
  },
  {
   "cell_type": "code",
   "execution_count": 32,
   "metadata": {
    "execution": {
     "iopub.execute_input": "2021-12-02T19:19:44.204834Z",
     "iopub.status.busy": "2021-12-02T19:19:44.204310Z",
     "iopub.status.idle": "2021-12-02T19:19:44.209805Z",
     "shell.execute_reply": "2021-12-02T19:19:44.209193Z",
     "shell.execute_reply.started": "2021-12-02T19:19:44.204772Z"
    }
   },
   "outputs": [],
   "source": [
    "# Создаём модель (НАСТРОЙКИ НЕ ТРОГАЕМ)\n",
    "model = RandomForestRegressor(n_estimators=100, verbose=1, n_jobs=-1, random_state=RANDOM_SEED)"
   ]
  },
  {
   "cell_type": "code",
   "execution_count": 33,
   "metadata": {
    "execution": {
     "iopub.execute_input": "2021-12-02T19:19:44.704006Z",
     "iopub.status.busy": "2021-12-02T19:19:44.703479Z",
     "iopub.status.idle": "2021-12-02T19:19:57.918179Z",
     "shell.execute_reply": "2021-12-02T19:19:57.916364Z",
     "shell.execute_reply.started": "2021-12-02T19:19:44.703942Z"
    }
   },
   "outputs": [],
   "source": [
    "# Обучаем модель на тестовом наборе данных\n",
    "model.fit(X_train, y_train)\n",
    "\n",
    "# Используем обученную модель для предсказания рейтинга ресторанов в тестовой выборке.\n",
    "# Предсказанные значения записываем в переменную y_pred\n",
    "y_pred = model.predict(X_test)"
   ]
  },
  {
   "cell_type": "code",
   "execution_count": 34,
   "metadata": {
    "execution": {
     "iopub.execute_input": "2021-12-02T19:19:57.920067Z",
     "iopub.status.busy": "2021-12-02T19:19:57.919806Z",
     "iopub.status.idle": "2021-12-02T19:19:57.924894Z",
     "shell.execute_reply": "2021-12-02T19:19:57.924198Z",
     "shell.execute_reply.started": "2021-12-02T19:19:57.920009Z"
    }
   },
   "outputs": [],
   "source": [
    "# Сравниваем предсказанные значения (y_pred) с реальными (y_test), и смотрим насколько они в среднем отличаются\n",
    "# Метрика называется Mean Absolute Error (MAE) и показывает среднее отклонение предсказанных значений от фактических.\n",
    "print('MAE:', metrics.mean_absolute_error(y_test, y_pred))"
   ]
  },
  {
   "cell_type": "code",
   "execution_count": 35,
   "metadata": {
    "execution": {
     "iopub.execute_input": "2021-12-02T19:20:41.369151Z",
     "iopub.status.busy": "2021-12-02T19:20:41.368809Z",
     "iopub.status.idle": "2021-12-02T19:20:41.854727Z",
     "shell.execute_reply": "2021-12-02T19:20:41.853724Z",
     "shell.execute_reply.started": "2021-12-02T19:20:41.369113Z"
    }
   },
   "outputs": [],
   "source": [
    "# в RandomForestRegressor есть возможность вывести самые важные признаки для модели\n",
    "plt.rcParams['figure.figsize'] = (10,10)\n",
    "feat_importances = pd.Series(model.feature_importances_, index=X.columns)\n",
    "feat_importances.nlargest(15).plot(kind='barh')"
   ]
  },
  {
   "cell_type": "markdown",
   "metadata": {},
   "source": [
    "# Submission\n",
    "Если все устраевает - готовим Submission на кагл"
   ]
  },
  {
   "cell_type": "code",
   "execution_count": 36,
   "metadata": {
    "execution": {
     "iopub.execute_input": "2021-12-02T19:20:45.767740Z",
     "iopub.status.busy": "2021-12-02T19:20:45.767313Z",
     "iopub.status.idle": "2021-12-02T19:20:45.797383Z",
     "shell.execute_reply": "2021-12-02T19:20:45.796590Z",
     "shell.execute_reply.started": "2021-12-02T19:20:45.767700Z"
    }
   },
   "outputs": [],
   "source": [
    "test_data.sample(10)"
   ]
  },
  {
   "cell_type": "code",
   "execution_count": 37,
   "metadata": {
    "execution": {
     "iopub.execute_input": "2021-12-02T19:20:46.803857Z",
     "iopub.status.busy": "2021-12-02T19:20:46.803516Z",
     "iopub.status.idle": "2021-12-02T19:20:46.810273Z",
     "shell.execute_reply": "2021-12-02T19:20:46.809213Z",
     "shell.execute_reply.started": "2021-12-02T19:20:46.803809Z"
    }
   },
   "outputs": [],
   "source": [
    "test_data = test_data.drop(['Rating'], axis=1)"
   ]
  },
  {
   "cell_type": "code",
   "execution_count": 38,
   "metadata": {
    "execution": {
     "iopub.execute_input": "2021-12-02T19:20:47.978841Z",
     "iopub.status.busy": "2021-12-02T19:20:47.978264Z",
     "iopub.status.idle": "2021-12-02T19:20:47.991568Z",
     "shell.execute_reply": "2021-12-02T19:20:47.990696Z",
     "shell.execute_reply.started": "2021-12-02T19:20:47.978790Z"
    }
   },
   "outputs": [],
   "source": [
    "sample_submission"
   ]
  },
  {
   "cell_type": "code",
   "execution_count": 39,
   "metadata": {
    "execution": {
     "iopub.execute_input": "2021-12-02T19:20:48.345290Z",
     "iopub.status.busy": "2021-12-02T19:20:48.344738Z",
     "iopub.status.idle": "2021-12-02T19:20:48.455746Z",
     "shell.execute_reply": "2021-12-02T19:20:48.454782Z",
     "shell.execute_reply.started": "2021-12-02T19:20:48.345221Z"
    }
   },
   "outputs": [],
   "source": [
    "predict_submission = model.predict(test_data)"
   ]
  },
  {
   "cell_type": "code",
   "execution_count": 40,
   "metadata": {
    "execution": {
     "iopub.execute_input": "2021-12-02T19:20:49.591829Z",
     "iopub.status.busy": "2021-12-02T19:20:49.591537Z",
     "iopub.status.idle": "2021-12-02T19:20:49.597456Z",
     "shell.execute_reply": "2021-12-02T19:20:49.596857Z",
     "shell.execute_reply.started": "2021-12-02T19:20:49.591793Z"
    }
   },
   "outputs": [],
   "source": [
    "predict_submission"
   ]
  },
  {
   "cell_type": "code",
   "execution_count": 41,
   "metadata": {
    "execution": {
     "iopub.execute_input": "2021-12-02T19:20:50.917152Z",
     "iopub.status.busy": "2021-12-02T19:20:50.916703Z",
     "iopub.status.idle": "2021-12-02T19:20:51.351046Z",
     "shell.execute_reply": "2021-12-02T19:20:51.350187Z",
     "shell.execute_reply.started": "2021-12-02T19:20:50.917108Z"
    }
   },
   "outputs": [],
   "source": [
    "sample_submission['Rating'] = predict_submission\n",
    "sample_submission.to_csv('submission.csv', index=False)\n",
    "sample_submission.head(10)"
   ]
  },
  {
   "cell_type": "markdown",
   "metadata": {},
   "source": [
    "# What's next?\n",
    "Или что делать, чтоб улучшить результат:\n",
    "* Обработать оставшиеся признаки в понятный для машины формат\n",
    "* Посмотреть, что еще можно извлечь из признаков\n",
    "* Сгенерировать новые признаки\n",
    "* Подгрузить дополнительные данные, например: по населению или благосостоянию городов\n",
    "* Подобрать состав признаков\n",
    "\n",
    "В общем, процесс творческий и весьма увлекательный! Удачи в соревновании!\n"
   ]
  },
  {
   "cell_type": "code",
   "execution_count": null,
   "metadata": {},
   "outputs": [],
   "source": []
  }
 ],
 "metadata": {
  "kernelspec": {
   "display_name": "Python 3",
   "language": "python",
   "name": "python3"
  },
  "language_info": {
   "codemirror_mode": {
    "name": "ipython",
    "version": 3
   },
   "file_extension": ".py",
   "mimetype": "text/x-python",
   "name": "python",
   "nbconvert_exporter": "python",
   "pygments_lexer": "ipython3",
   "version": "3.7.3"
  }
 },
 "nbformat": 4,
 "nbformat_minor": 4
}
